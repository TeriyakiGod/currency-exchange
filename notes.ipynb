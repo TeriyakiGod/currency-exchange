{
 "cells": [
  {
   "cell_type": "code",
   "execution_count": 8,
   "metadata": {},
   "outputs": [
    {
     "name": "stdout",
     "output_type": "stream",
     "text": [
      "1.042209506034851\n"
     ]
    }
   ],
   "source": [
    "from yfinance import Ticker\n",
    "\n",
    "ticker = Ticker('EURUSD=X')\n",
    "data = ticker.fast_info\n",
    "price = data['last_price']\n",
    "try:\n",
    "    price = Ticker(\"EURUSD=X\").fast_info['last_price']\n",
    "except KeyError:\n",
    "    price = 0\n",
    "print(price)\n"
   ]
  }
 ],
 "metadata": {
  "kernelspec": {
   "display_name": ".venv",
   "language": "python",
   "name": "python3"
  },
  "language_info": {
   "codemirror_mode": {
    "name": "ipython",
    "version": 3
   },
   "file_extension": ".py",
   "mimetype": "text/x-python",
   "name": "python",
   "nbconvert_exporter": "python",
   "pygments_lexer": "ipython3",
   "version": "3.11.2"
  }
 },
 "nbformat": 4,
 "nbformat_minor": 2
}
